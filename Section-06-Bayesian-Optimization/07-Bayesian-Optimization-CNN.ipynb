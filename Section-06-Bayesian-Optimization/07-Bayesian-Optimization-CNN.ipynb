{
 "cells": [
  {
   "cell_type": "markdown",
   "metadata": {
    "_cell_guid": "d4c08f48-fe23-4ddb-ac46-d97f05397514",
    "_uuid": "f2156d1dd26a1243e18512002e10872c5bd7271e"
   },
   "source": [
    "# Bayesian Optimization of CNN with Scikit-Optimize\n",
    "\n",
    "In this notebook, we will use **Bayesian Optimization** to select the best **hyperparameters** for a CNN that recognizes digits in images, using the MNIST dataset and the open source Python package [Scikit-Optimize](https://scikit-optimize.github.io/stable/index.html).\n",
    "\n",
    "The MNIST dataset is availale in [Kaggle](https://www.kaggle.com/c/digit-recognizer/data).\n",
    "\n",
    "## Download dataset\n",
    "\n",
    "- Navigate to the [MNIST website in Kaggle](https://www.kaggle.com/c/digit-recognizer/data)\n",
    "- Download the train.csv file\n",
    "- Unzip and copy the train.csv file to where you see the SAVE_DATASETS-HERE.txt file\n",
    "- Rename to mnist.csv\n",
    "\n",
    "**Remember that you need to be logged in to be able to download the dataset**\n",
    "\n",
    "## Notebook content\n",
    "\n",
    "- Data Preparation\n",
    "- Set up a simple CNN\n",
    "- Set up the hyperparameter search shape\n",
    "- Set up the objective function\n",
    "- Perform Bayesian Optimization\n",
    "- Evaluate Model Performance"
   ]
  },
  {
   "cell_type": "code",
   "execution_count": null,
   "metadata": {},
   "outputs": [],
   "source": [
    "# For reproducible results.\n",
    "# See: \n",
    "# https://keras.io/getting_started/faq/#how-can-i-obtain-reproducible-results-using-keras-during-development\n",
    "\n",
    "import os\n",
    "os.environ['PYTHONHASHSEED'] = '0'\n",
    "\n",
    "import numpy as np\n",
    "import tensorflow as tf\n",
    "import random as python_random\n",
    "\n",
    "# The below is necessary for starting Numpy generated random numbers\n",
    "# in a well-defined initial state.\n",
    "np.random.seed(123)\n",
    "\n",
    "# The below is necessary for starting core Python generated random numbers\n",
    "# in a well-defined state.\n",
    "python_random.seed(123)\n",
    "\n",
    "# The below set_seed() will make random number generation\n",
    "# in the TensorFlow backend have a well-defined initial state.\n",
    "# For further details, see:\n",
    "# https://www.tensorflow.org/api_docs/python/tf/random/set_seed\n",
    "tf.random.set_seed(1234)"
   ]
  },
  {
   "cell_type": "code",
   "execution_count": 1,
   "metadata": {
    "_cell_guid": "f67b9393-8ea1-4e23-b856-2ce149cfe421",
    "_execution_state": "idle",
    "_uuid": "72334cb006d02a4bcfc2a2fe622524eba824c6f8"
   },
   "outputs": [],
   "source": [
    "import itertools\n",
    "\n",
    "import pandas as pd\n",
    "import matplotlib.pyplot as plt\n",
    "import seaborn as sns\n",
    "\n",
    "from sklearn.model_selection import train_test_split\n",
    "from sklearn.metrics import confusion_matrix"
   ]
  },
  {
   "cell_type": "code",
   "execution_count": 2,
   "metadata": {},
   "outputs": [],
   "source": [
    "from keras.utils.np_utils import to_categorical\n",
    "from keras.models import Sequential, load_model\n",
    "from keras.layers import Dense, Flatten, Conv2D, MaxPool2D\n",
    "from keras.optimizers import Adam\n",
    "from keras.callbacks import ReduceLROnPlateau"
   ]
  },
  {
   "cell_type": "code",
   "execution_count": 3,
   "metadata": {},
   "outputs": [],
   "source": [
    "from skopt import gp_minimize\n",
    "from skopt.space import Real, Categorical, Integer\n",
    "from skopt.plots import plot_convergence\n",
    "from skopt.plots import plot_objective, plot_evaluations\n",
    "from skopt.utils import use_named_args"
   ]
  },
  {
   "cell_type": "markdown",
   "metadata": {
    "_cell_guid": "6d2fb3e6-ab71-4974-b5a2-4af1ebdb99f4",
    "_execution_state": "idle",
    "_uuid": "86061d98eccaa02efe0dab0fa3884e71fcf4c310"
   },
   "source": [
    "#  Data Preparation\n",
    "\n",
    "The dataset contains information about images, each image is a hand-written digit. The aim is to have the computer predict which digit was written by the person, automatically, by \"looking\" at the image. \n",
    "\n",
    "Each image is 28 pixels in height and 28 pixels in width (28 x 28), making a total of 784 pixels. Each pixel value is an integer between 0 and 255, indicating the darkness in a gray-scale of that pixel.\n",
    "\n",
    "The data is stored in a dataframe where each each pixel is a column (so it is flattened and not in the 28 x 28 format). \n",
    "\n",
    "The data set the has 785 columns. The first column, called \"label\", is the digit that was drawn by the user. The rest of the columns contain the pixel-values of the associated image."
   ]
  },
  {
   "cell_type": "code",
   "execution_count": 6,
   "metadata": {
    "_cell_guid": "5e51d00e-62fd-4141-bf73-50ac4f2da7d0",
    "_execution_state": "idle",
    "_uuid": "84bbd5ab8d7895bd430d5ecfe2f7ddf77baa7b74"
   },
   "outputs": [
    {
     "data": {
      "text/html": [
       "<div>\n",
       "<style scoped>\n",
       "    .dataframe tbody tr th:only-of-type {\n",
       "        vertical-align: middle;\n",
       "    }\n",
       "\n",
       "    .dataframe tbody tr th {\n",
       "        vertical-align: top;\n",
       "    }\n",
       "\n",
       "    .dataframe thead th {\n",
       "        text-align: right;\n",
       "    }\n",
       "</style>\n",
       "<table border=\"1\" class=\"dataframe\">\n",
       "  <thead>\n",
       "    <tr style=\"text-align: right;\">\n",
       "      <th></th>\n",
       "      <th>label</th>\n",
       "      <th>pixel0</th>\n",
       "      <th>pixel1</th>\n",
       "      <th>pixel2</th>\n",
       "      <th>pixel3</th>\n",
       "      <th>pixel4</th>\n",
       "      <th>pixel5</th>\n",
       "      <th>pixel6</th>\n",
       "      <th>pixel7</th>\n",
       "      <th>pixel8</th>\n",
       "      <th>...</th>\n",
       "      <th>pixel774</th>\n",
       "      <th>pixel775</th>\n",
       "      <th>pixel776</th>\n",
       "      <th>pixel777</th>\n",
       "      <th>pixel778</th>\n",
       "      <th>pixel779</th>\n",
       "      <th>pixel780</th>\n",
       "      <th>pixel781</th>\n",
       "      <th>pixel782</th>\n",
       "      <th>pixel783</th>\n",
       "    </tr>\n",
       "  </thead>\n",
       "  <tbody>\n",
       "    <tr>\n",
       "      <th>0</th>\n",
       "      <td>1</td>\n",
       "      <td>0</td>\n",
       "      <td>0</td>\n",
       "      <td>0</td>\n",
       "      <td>0</td>\n",
       "      <td>0</td>\n",
       "      <td>0</td>\n",
       "      <td>0</td>\n",
       "      <td>0</td>\n",
       "      <td>0</td>\n",
       "      <td>...</td>\n",
       "      <td>0</td>\n",
       "      <td>0</td>\n",
       "      <td>0</td>\n",
       "      <td>0</td>\n",
       "      <td>0</td>\n",
       "      <td>0</td>\n",
       "      <td>0</td>\n",
       "      <td>0</td>\n",
       "      <td>0</td>\n",
       "      <td>0</td>\n",
       "    </tr>\n",
       "    <tr>\n",
       "      <th>1</th>\n",
       "      <td>0</td>\n",
       "      <td>0</td>\n",
       "      <td>0</td>\n",
       "      <td>0</td>\n",
       "      <td>0</td>\n",
       "      <td>0</td>\n",
       "      <td>0</td>\n",
       "      <td>0</td>\n",
       "      <td>0</td>\n",
       "      <td>0</td>\n",
       "      <td>...</td>\n",
       "      <td>0</td>\n",
       "      <td>0</td>\n",
       "      <td>0</td>\n",
       "      <td>0</td>\n",
       "      <td>0</td>\n",
       "      <td>0</td>\n",
       "      <td>0</td>\n",
       "      <td>0</td>\n",
       "      <td>0</td>\n",
       "      <td>0</td>\n",
       "    </tr>\n",
       "    <tr>\n",
       "      <th>2</th>\n",
       "      <td>1</td>\n",
       "      <td>0</td>\n",
       "      <td>0</td>\n",
       "      <td>0</td>\n",
       "      <td>0</td>\n",
       "      <td>0</td>\n",
       "      <td>0</td>\n",
       "      <td>0</td>\n",
       "      <td>0</td>\n",
       "      <td>0</td>\n",
       "      <td>...</td>\n",
       "      <td>0</td>\n",
       "      <td>0</td>\n",
       "      <td>0</td>\n",
       "      <td>0</td>\n",
       "      <td>0</td>\n",
       "      <td>0</td>\n",
       "      <td>0</td>\n",
       "      <td>0</td>\n",
       "      <td>0</td>\n",
       "      <td>0</td>\n",
       "    </tr>\n",
       "    <tr>\n",
       "      <th>3</th>\n",
       "      <td>4</td>\n",
       "      <td>0</td>\n",
       "      <td>0</td>\n",
       "      <td>0</td>\n",
       "      <td>0</td>\n",
       "      <td>0</td>\n",
       "      <td>0</td>\n",
       "      <td>0</td>\n",
       "      <td>0</td>\n",
       "      <td>0</td>\n",
       "      <td>...</td>\n",
       "      <td>0</td>\n",
       "      <td>0</td>\n",
       "      <td>0</td>\n",
       "      <td>0</td>\n",
       "      <td>0</td>\n",
       "      <td>0</td>\n",
       "      <td>0</td>\n",
       "      <td>0</td>\n",
       "      <td>0</td>\n",
       "      <td>0</td>\n",
       "    </tr>\n",
       "    <tr>\n",
       "      <th>4</th>\n",
       "      <td>0</td>\n",
       "      <td>0</td>\n",
       "      <td>0</td>\n",
       "      <td>0</td>\n",
       "      <td>0</td>\n",
       "      <td>0</td>\n",
       "      <td>0</td>\n",
       "      <td>0</td>\n",
       "      <td>0</td>\n",
       "      <td>0</td>\n",
       "      <td>...</td>\n",
       "      <td>0</td>\n",
       "      <td>0</td>\n",
       "      <td>0</td>\n",
       "      <td>0</td>\n",
       "      <td>0</td>\n",
       "      <td>0</td>\n",
       "      <td>0</td>\n",
       "      <td>0</td>\n",
       "      <td>0</td>\n",
       "      <td>0</td>\n",
       "    </tr>\n",
       "  </tbody>\n",
       "</table>\n",
       "<p>5 rows × 785 columns</p>\n",
       "</div>"
      ],
      "text/plain": [
       "   label  pixel0  pixel1  pixel2  pixel3  pixel4  pixel5  pixel6  pixel7   \n",
       "0      1       0       0       0       0       0       0       0       0  \\\n",
       "1      0       0       0       0       0       0       0       0       0   \n",
       "2      1       0       0       0       0       0       0       0       0   \n",
       "3      4       0       0       0       0       0       0       0       0   \n",
       "4      0       0       0       0       0       0       0       0       0   \n",
       "\n",
       "   pixel8  ...  pixel774  pixel775  pixel776  pixel777  pixel778  pixel779   \n",
       "0       0  ...         0         0         0         0         0         0  \\\n",
       "1       0  ...         0         0         0         0         0         0   \n",
       "2       0  ...         0         0         0         0         0         0   \n",
       "3       0  ...         0         0         0         0         0         0   \n",
       "4       0  ...         0         0         0         0         0         0   \n",
       "\n",
       "   pixel780  pixel781  pixel782  pixel783  \n",
       "0         0         0         0         0  \n",
       "1         0         0         0         0  \n",
       "2         0         0         0         0  \n",
       "3         0         0         0         0  \n",
       "4         0         0         0         0  \n",
       "\n",
       "[5 rows x 785 columns]"
      ]
     },
     "execution_count": 6,
     "metadata": {},
     "output_type": "execute_result"
    }
   ],
   "source": [
    "# Load the data\n",
    "\n",
    "#data = pd.read_csv(\"../mnist.csv\")\n",
    "data = pd.read_csv(\"../data/train.csv\")\n",
    "\n",
    "# first column is the target, the rest of the columns\n",
    "# are the pixels of the image\n",
    "\n",
    "# each row is 1 image\n",
    "data.head()"
   ]
  },
  {
   "cell_type": "code",
   "execution_count": 7,
   "metadata": {},
   "outputs": [
    {
     "data": {
      "text/plain": [
       "((37800, 784), (4200, 784))"
      ]
     },
     "execution_count": 7,
     "metadata": {},
     "output_type": "execute_result"
    }
   ],
   "source": [
    "# split dataset into a train and test set\n",
    "\n",
    "X_train, X_test, y_train, y_test = train_test_split(\n",
    "    data.drop(['label'], axis=1), # the images\n",
    "    data['label'], # the target\n",
    "    test_size = 0.1,\n",
    "    random_state=0)\n",
    "\n",
    "X_train.shape, X_test.shape"
   ]
  },
  {
   "cell_type": "code",
   "execution_count": 8,
   "metadata": {
    "_cell_guid": "86570a36-5c20-460a-9dfd-2070548532a7",
    "_execution_state": "idle",
    "_uuid": "1213b979d5ed3e0d13824d17d694c79d2ece92fa"
   },
   "outputs": [
    {
     "data": {
      "text/plain": [
       "Text(0, 0.5, 'Number of images')"
      ]
     },
     "execution_count": 8,
     "metadata": {},
     "output_type": "execute_result"
    },
    {
     "data": {
      "image/png": "[encoded data removed]",
      "text/plain": [
       "<Figure size 640x480 with 1 Axes>"
      ]
     },
     "metadata": {},
     "output_type": "display_data"
    }
   ],
   "source": [
    "# number of images for each digit\n",
    "\n",
    "g = sns.countplot(x=y_train)\n",
    "plt.xlabel('Digits')\n",
    "plt.ylabel('Number of images')"
   ]
  },
  {
   "cell_type": "markdown",
   "metadata": {
    "_cell_guid": "5aea4062-1790-4987-b739-c4bebd79030f",
    "_uuid": "b7b1b1d36243c885e57374c8b60c5a7e10abe922"
   },
   "source": [
    "There are roughly the same amount of images for each of the 10 digits."
   ]
  },
  {
   "cell_type": "markdown",
   "metadata": {
    "_cell_guid": "6812040d-80ad-43d2-a571-275f4f20067b",
    "_uuid": "2954681f25f0dcbe986e6914396cdbce61db591f"
   },
   "source": [
    "## Image re-scaling\n",
    "\n",
    "We re-scale data for the CNN, between 0 and 1."
   ]
  },
  {
   "cell_type": "code",
   "execution_count": 9,
   "metadata": {
    "_cell_guid": "cdc4340b-6e24-4e12-be99-ac806098ff17",
    "_execution_state": "idle",
    "_uuid": "b5d4f8fcf2a967e2c7d57daedf95aa8c5ab7f8cb"
   },
   "outputs": [],
   "source": [
    "# Re-scale the data\n",
    "\n",
    "# 255 is the maximum value a pixel can take\n",
    "\n",
    "X_train = X_train / 255\n",
    "X_test = X_test / 255"
   ]
  },
  {
   "cell_type": "markdown",
   "metadata": {
    "_cell_guid": "7413df94-bcb9-4f75-b174-c127d4445766",
    "_uuid": "a66741bf1ac597094f3a3166877008feef27c519"
   },
   "source": [
    "## Reshape\n",
    "\n",
    "The images were stored in a pandas dataframe as 1-D vectors of 784 values. For a CNN with Keras, we need tensors with the following dimensions: width x height x channel. \n",
    "\n",
    "Thus, we reshape all data to 28 x 2 8 x 1, 3-D matrices. \n",
    "\n",
    "The 3rd dimension corresponds to the channel. RGB images have 3 channels. MNIST images are in gray-scale, thus they have only one channel in the 3rd dimension."
   ]
  },
  {
   "cell_type": "code",
   "execution_count": 10,
   "metadata": {
    "_cell_guid": "34b6a5f7-8fd2-4387-8ef4-c9dc19584fed",
    "_execution_state": "idle",
    "_uuid": "f0a6ad80dab8e0f2c2e46165ccd9cd82dd162bc3"
   },
   "outputs": [],
   "source": [
    "# Reshape image in 3 dimensions:\n",
    "# height: 28px X width: 28px X channel: 1 \n",
    "\n",
    "X_train = X_train.values.reshape(-1,28,28,1)\n",
    "X_test = X_test.values.reshape(-1,28,28,1)"
   ]
  },
  {
   "cell_type": "markdown",
   "metadata": {
    "_cell_guid": "bdb422e2-bdec-444f-97a5-283a1e54bf2c",
    "_uuid": "39b7a31e843bac6b705461bcce89da216b91799e"
   },
   "source": [
    "## Target encoding"
   ]
  },
  {
   "cell_type": "code",
   "execution_count": 11,
   "metadata": {},
   "outputs": [
    {
     "data": {
      "text/plain": [
       "array([2, 0, 7, 4, 3, 5, 9, 6, 8, 1], dtype=int64)"
      ]
     },
     "execution_count": 11,
     "metadata": {},
     "output_type": "execute_result"
    }
   ],
   "source": [
    "# the target is 1 variable with the 9 different digits\n",
    "# as values\n",
    "\n",
    "y_train.unique()"
   ]
  },
  {
   "cell_type": "code",
   "execution_count": 12,
   "metadata": {
    "_cell_guid": "4b7f3e78-44dc-4561-b1f0-9429ee024cf4",
    "_execution_state": "idle",
    "_uuid": "cabefd1478d5c1bdfe57fd6a34395340916a854c"
   },
   "outputs": [
    {
     "data": {
      "text/plain": [
       "array([[0., 0., 1., ..., 0., 0., 0.],\n",
       "       [0., 0., 1., ..., 0., 0., 0.],\n",
       "       [1., 0., 0., ..., 0., 0., 0.],\n",
       "       ...,\n",
       "       [0., 0., 0., ..., 0., 0., 1.],\n",
       "       [1., 0., 0., ..., 0., 0., 0.],\n",
       "       [0., 0., 0., ..., 0., 0., 1.]], dtype=float32)"
      ]
     },
     "execution_count": 12,
     "metadata": {},
     "output_type": "execute_result"
    }
   ],
   "source": [
    "# For Keras, we need to create 10 dummy variables,\n",
    "# one for each digit\n",
    "\n",
    "# Encode labels to one hot vectors (ex : digit 2 -> [0,0,1,0,0,0,0,0,0,0])\n",
    "\n",
    "y_train = to_categorical(y_train, num_classes = 10)\n",
    "y_test = to_categorical(y_test, num_classes = 10)\n",
    "\n",
    "# the new target\n",
    "y_train"
   ]
  },
  {
   "cell_type": "markdown",
   "metadata": {
    "_cell_guid": "adbeacf0-0dc0-4675-b2df-9c9663750f32",
    "_uuid": "60eed15ec5bc0d354385301789ecb8538fc02267"
   },
   "source": [
    "Let's print some example images."
   ]
  },
  {
   "cell_type": "code",
   "execution_count": 13,
   "metadata": {
    "_cell_guid": "5f76131b-4ba0-45f1-a98c-bd4e7d561793",
    "_execution_state": "idle",
    "_uuid": "e0dae8943d3d35f075dba3d7ba31bde1d4bf2ff4"
   },
   "outputs": [
    {
     "data": {
      "image/png": "[encoded data removed]",
      "text/plain": [
       "<Figure size 640x480 with 1 Axes>"
      ]
     },
     "metadata": {},
     "output_type": "display_data"
    }
   ],
   "source": [
    "# Some image examples \n",
    "\n",
    "g = plt.imshow(X_train[0][:,:,0])"
   ]
  },
  {
   "cell_type": "code",
   "execution_count": 14,
   "metadata": {},
   "outputs": [
    {
     "data": {
      "image/png": "[encoded data removed]",
      "text/plain": [
       "<Figure size 640x480 with 1 Axes>"
      ]
     },
     "metadata": {},
     "output_type": "display_data"
    }
   ],
   "source": [
    "# Some image examples \n",
    "\n",
    "g = plt.imshow(X_train[10][:,:,0])"
   ]
  },
  {
   "cell_type": "markdown",
   "metadata": {
    "_cell_guid": "d5265777-aeb3-449d-b171-d88cad74c0a4",
    "_uuid": "5fa18b37a9acd9e098bac1d12264b0dd4310fdd3"
   },
   "source": [
    "# Define the CNN\n",
    "\n",
    "We will create a CNN, with 2 Convolutional layers followed by Pooling, and varying number of fully-connected Dense layers.\n",
    "\n",
    "In fact, the number of fully-connected Dense layers and the number of Neurons in each one of the Dense layers, are some of the hyperparameters we want to optimize.\n",
    "\n",
    "We could also optimize the number of Convolutional layers. But we will keep that for later, and here we keep it a bit simpler."
   ]
  },
  {
   "cell_type": "code",
   "execution_count": null,
   "metadata": {},
   "outputs": [],
   "source": [
    "# function to create the CNN\n",
    "# we pass the hyperparameters we want to optimize\n",
    "# and the function returns the model (compiled with the optimizer)\n",
    "# inside the function the model is defined\n",
    "def create_cnn(\n",
    "    learning_rate,\n",
    "    num_dense_layers,\n",
    "    num_dense_nodes,\n",
    "    activation,\n",
    "):\n",
    "    \"\"\"\n",
    "    Hyper-parameters:\n",
    "    learning_rate:     Learning-rate for the optimizer.\n",
    "    num_dense_layers:  Number of dense layers.\n",
    "    num_dense_nodes:   Number of nodes in each dense layer.\n",
    "    activation:        Activation function for all layers.\n",
    "    \"\"\"\n",
    "\n",
    "    # Start construction of a Keras Sequential model.\n",
    "    model = Sequential()\n",
    "\n",
    "    # First convolutional layer.\n",
    "    # There are many hyper-parameters in this layer\n",
    "    # For this demo, we will optimize the activation function only.\n",
    "    model.add(Conv2D(kernel_size=5, strides=1, filters=16, padding='same',\n",
    "                     activation=activation, name='layer_conv1'))\n",
    "    model.add(MaxPool2D(pool_size=2, strides=2))\n",
    "\n",
    "    # Second convolutional layer.\n",
    "    # Again, we will only optimize the activation function.\n",
    "    model.add(Conv2D(kernel_size=5, strides=1, filters=36, padding='same',\n",
    "                     activation=activation, name='layer_conv2'))\n",
    "    model.add(MaxPool2D(pool_size=2, strides=2))\n",
    "\n",
    "    # Flatten the 4-rank output of the convolutional layers\n",
    "    # to 2-rank that can be input to a fully-connected Dense layer.\n",
    "    model.add(Flatten())\n",
    "\n",
    "    # Add fully-connected Dense layers.\n",
    "    # The number of layers is a hyper-parameter we want to optimize.\n",
    "    # We add the different number of layers in the following loop:\n",
    "    \n",
    "    for i in range(num_dense_layers):\n",
    "        \n",
    "        # Add the dense fully-connected layer to the model.\n",
    "        # This has two hyper-parameters we want to optimize:\n",
    "        # The number of nodes (neurons) and the activation function.\n",
    "        model.add(Dense(num_dense_nodes,\n",
    "                        activation=activation,\n",
    "                        ))\n",
    "\n",
    "    # Last fully-connected dense layer with softmax-activation\n",
    "    # for use in classification.\n",
    "    model.add(Dense(10, activation='softmax'))\n",
    "\n",
    "    # Use the Adam method for training the network.\n",
    "    # We want to find the best learning-rate for the Adam method.\n",
    "    optimizer = Adam(learning_rate=learning_rate)\n",
    "\n",
    "    # In Keras we need to compile the model so it can be trained.\n",
    "    model.compile(optimizer=optimizer,\n",
    "                  loss='categorical_crossentropy',\n",
    "                  metrics=['accuracy'])\n",
    "\n",
    "    return model"
   ]
  },
  {
   "cell_type": "markdown",
   "metadata": {},
   "source": [
    "# Define the Hyperparameter Space\n",
    "\n",
    "Scikit-optimize provides an utility function to create the range of values to examine for each hyperparameters. More details in [skopt.Space](https://scikit-optimize.github.io/stable/modules/generated/skopt.Space.html)\n",
    "\n",
    "\n",
    "We want to find the following hyper-parameters:\n",
    "\n",
    "- The learning rate of the optimizer.\n",
    "- The number of fully-connected Dense layers.\n",
    "- The number of nodes (neurons) for each of the dense layers.\n",
    "- Whether to use 'sigmoid' or 'relu' activation in all the layers."
   ]
  },
  {
   "cell_type": "code",
   "execution_count": null,
   "metadata": {},
   "outputs": [],
   "source": [
    "# We define the hyperparameter space\n",
    "dim_learning_rate = Real(\n",
    "    low=1e-6,\n",
    "    high=1e-2,\n",
    "    prior='log-uniform', # sample it from teh log-uniform distribution\n",
    "    name='learning_rate',\n",
    ")\n",
    "\n",
    "# uniformly sampled by default\n",
    "dim_num_dense_layers = Integer(low=1,\n",
    "                               high=5,\n",
    "                               name='num_dense_layers')\n",
    "\n",
    "dim_num_dense_nodes = Integer(low=5, high=512, name='num_dense_nodes')\n",
    "\n",
    "\n",
    "dim_activation = Categorical(\n",
    "    categories=['relu', 'sigmoid'], name='activation',\n",
    ")"
   ]
  },
  {
   "cell_type": "code",
   "execution_count": null,
   "metadata": {},
   "outputs": [],
   "source": [
    "# the hyperparameter space grid\n",
    "param_grid = [dim_learning_rate,\n",
    "              dim_num_dense_layers,\n",
    "              dim_num_dense_nodes,\n",
    "              dim_activation]\n",
    "# NOTE: other possible hyperparameters: batch size, epochs, number of convolutional layers in each conv-pool block, etc."
   ]
  },
  {
   "cell_type": "markdown",
   "metadata": {},
   "source": [
    "# Define the Objective Function"
   ]
  },
  {
   "cell_type": "code",
   "execution_count": 22,
   "metadata": {},
   "outputs": [],
   "source": [
    "# we will save the model with this name\n",
    "path_best_model = 'cnn_model.h5'\n",
    "\n",
    "# starting point for the optimization\n",
    "best_accuracy = 0"
   ]
  },
  {
   "cell_type": "code",
   "execution_count": 26,
   "metadata": {},
   "outputs": [],
   "source": [
    "# The objective function in the case of a neural network does the following:\n",
    "# - Instantiate a model with a set of hyperparameters: create_cnn()\n",
    "# - Instantiate anything required by the model, e.g., learning rate reduction scheme\n",
    "# - Fit/train it for some epoches and a given fraction of validation split\n",
    "# - If the score is the best so far, save the model and its training statistics\n",
    "@use_named_args(param_grid)\n",
    "def objective(\n",
    "    learning_rate,\n",
    "    num_dense_layers,\n",
    "    num_dense_nodes,\n",
    "    activation,\n",
    "):\n",
    "    \n",
    "    \"\"\"\n",
    "    Hyper-parameters:\n",
    "    learning_rate:     Learning-rate for the optimizer.\n",
    "    num_dense_layers:  Number of dense layers.\n",
    "    num_dense_nodes:   Number of nodes in each dense layer.\n",
    "    activation:        Activation function for all layers.\n",
    "    \"\"\"\n",
    "\n",
    "    # Print the hyper-parameters.\n",
    "    print('learning rate: {0:.1e}'.format(learning_rate))\n",
    "    print('num_dense_layers:', num_dense_layers)\n",
    "    print('num_dense_nodes:', num_dense_nodes)\n",
    "    print('activation:', activation)\n",
    "    print()\n",
    "    \n",
    "    # Create the neural network with the hyper-parameters.\n",
    "    # We call the function we created previously.\n",
    "    model = create_cnn(learning_rate=learning_rate,\n",
    "                       num_dense_layers=num_dense_layers,\n",
    "                       num_dense_nodes=num_dense_nodes,\n",
    "                       activation=activation)\n",
    "\n",
    "   \n",
    "    # Set a learning rate annealer\n",
    "    # this reduces the learning rate if learning does not improve\n",
    "    # for a certain number of epochs\n",
    "    learning_rate_reduction = ReduceLROnPlateau(monitor='val_accuracy', \n",
    "                                                patience=2, \n",
    "                                                verbose=1, \n",
    "                                                factor=0.5, \n",
    "                                                min_lr=0.00001)\n",
    "   \n",
    "    # train the model\n",
    "    # we use 3 epochs to be able to run the notebook in a \"reasonable\"\n",
    "    # time. If we increase the epochs, we will have better performance\n",
    "    # this could be another parameter to optimize in fact.\n",
    "    history = model.fit(x=X_train,\n",
    "                        y=y_train,\n",
    "                        epochs=3, # 3\n",
    "                        batch_size=128, # this could be a hyperparameter, too\n",
    "                        validation_split=0.1,\n",
    "                        callbacks=learning_rate_reduction)\n",
    "\n",
    "    # Get the classification accuracy on the validation-set\n",
    "    # after the last training-epoch.\n",
    "    accuracy = history.history['val_accuracy'][-1]\n",
    "\n",
    "    # Print the classification accuracy.\n",
    "    print()\n",
    "    print(\"Accuracy: {0:.2%}\".format(accuracy))\n",
    "    print()\n",
    "\n",
    "    # Save the model if it improves on the best-found performance.\n",
    "    # We use the global keyword so we update the variable outside\n",
    "    # of this function.\n",
    "    global best_accuracy\n",
    "\n",
    "    # If the classification accuracy of the saved model is improved ...\n",
    "    if accuracy > best_accuracy:\n",
    "        # Save the new model to harddisk.\n",
    "        # Training CNNs is costly, so we want to avoid having to re-train\n",
    "        # the network with the best found parameters. We save it instead\n",
    "        # as we search for the best hyperparam space.\n",
    "        model.save(path_best_model)\n",
    "        \n",
    "        # Update the classification accuracy.\n",
    "        best_accuracy = accuracy\n",
    "\n",
    "    # VERY IMPORTANT!\n",
    "    # Delete the Keras model with these hyper-parameters from memory.\n",
    "    del model\n",
    "    \n",
    "    # Remember that Scikit-optimize always minimizes the objective\n",
    "    # function, so we need to negate the accuracy (because we want\n",
    "    # the maximum accuracy)\n",
    "    return -accuracy"
   ]
  },
  {
   "cell_type": "markdown",
   "metadata": {},
   "source": [
    "## Test run"
   ]
  },
  {
   "cell_type": "code",
   "execution_count": 24,
   "metadata": {},
   "outputs": [
    {
     "name": "stdout",
     "output_type": "stream",
     "text": [
      "learning rate: 1.0e-05\n",
      "num_dense_layers: 1\n",
      "num_dense_nodes: 16\n",
      "activation: relu\n",
      "\n",
      "Epoch 1/3\n",
      "266/266 [==============================] - 33s 120ms/step - loss: 2.2733 - accuracy: 0.1655 - val_loss: 2.2337 - val_accuracy: 0.2228 - lr: 1.0000e-05\n",
      "Epoch 2/3\n",
      "266/266 [==============================] - 30s 115ms/step - loss: 2.1717 - accuracy: 0.2722 - val_loss: 2.1013 - val_accuracy: 0.3574 - lr: 1.0000e-05\n",
      "Epoch 3/3\n",
      "266/266 [==============================] - 31s 116ms/step - loss: 2.0007 - accuracy: 0.4185 - val_loss: 1.8971 - val_accuracy: 0.4865 - lr: 1.0000e-05\n",
      "\n",
      "Accuracy: 48.65%\n",
      "\n"
     ]
    },
    {
     "data": {
      "text/plain": [
       "-0.48650792241096497"
      ]
     },
     "execution_count": 24,
     "metadata": {},
     "output_type": "execute_result"
    }
   ],
   "source": [
    "# Before we run the hyper-parameter optimization, \n",
    "# let's first check that the everything is working\n",
    "# by passing some default hyper-parameters.\n",
    "# Beware of the time needed for one evaluation and\n",
    "# modify epochs and n_calls accordingly\n",
    "default_parameters = [1e-5, 1, 16, 'relu']\n",
    "\n",
    "objective(x=default_parameters)"
   ]
  },
  {
   "cell_type": "markdown",
   "metadata": {},
   "source": [
    "We obtained a mediocre accuracy, but all our code is working. So let's get started with the Optimization now!!"
   ]
  },
  {
   "cell_type": "markdown",
   "metadata": {},
   "source": [
    "## Bayesian Optimization"
   ]
  },
  {
   "cell_type": "code",
   "execution_count": 27,
   "metadata": {
    "_cell_guid": "b453af8d-9736-43e3-b486-7a1cd7dd8909",
    "_execution_state": "idle",
    "_uuid": "cf36b3d029f95b553be02d612e097a9769ee8252",
    "scrolled": true
   },
   "outputs": [
    {
     "name": "stdout",
     "output_type": "stream",
     "text": [
      "learning rate: 1.0e-05\n",
      "num_dense_layers: 1\n",
      "num_dense_nodes: 16\n",
      "activation: relu\n",
      "\n",
      "Epoch 1/3\n",
      "266/266 [==============================] - 33s 118ms/step - loss: 2.2509 - accuracy: 0.1392 - val_loss: 2.1818 - val_accuracy: 0.1974 - lr: 1.0000e-05\n",
      "Epoch 2/3\n",
      "266/266 [==============================] - 31s 116ms/step - loss: 2.0844 - accuracy: 0.3132 - val_loss: 1.9869 - val_accuracy: 0.4013 - lr: 1.0000e-05\n",
      "Epoch 3/3\n",
      "266/266 [==============================] - 31s 115ms/step - loss: 1.8494 - accuracy: 0.4855 - val_loss: 1.7293 - val_accuracy: 0.5156 - lr: 1.0000e-05\n",
      "\n",
      "Accuracy: 51.56%\n",
      "\n",
      "learning rate: 2.4e-04\n",
      "num_dense_layers: 4\n",
      "num_dense_nodes: 440\n",
      "activation: sigmoid\n",
      "\n",
      "Epoch 1/3\n",
      "266/266 [==============================] - 55s 199ms/step - loss: 2.3126 - accuracy: 0.1023 - val_loss: 2.3037 - val_accuracy: 0.1146 - lr: 2.3517e-04\n",
      "Epoch 2/3\n",
      "266/266 [==============================] - 53s 198ms/step - loss: 1.8397 - accuracy: 0.3313 - val_loss: 0.8857 - val_accuracy: 0.6786 - lr: 2.3517e-04\n",
      "Epoch 3/3\n",
      "266/266 [==============================] - 42s 157ms/step - loss: 0.6558 - accuracy: 0.7917 - val_loss: 0.5134 - val_accuracy: 0.8466 - lr: 2.3517e-04\n",
      "\n",
      "Accuracy: 84.66%\n",
      "\n",
      "learning rate: 3.1e-04\n",
      "num_dense_layers: 3\n",
      "num_dense_nodes: 156\n",
      "activation: relu\n",
      "\n",
      "Epoch 1/3\n",
      "266/266 [==============================] - 40s 145ms/step - loss: 0.5232 - accuracy: 0.8476 - val_loss: 0.1931 - val_accuracy: 0.9429 - lr: 3.1207e-04\n",
      "Epoch 2/3\n",
      "266/266 [==============================] - 34s 130ms/step - loss: 0.1311 - accuracy: 0.9598 - val_loss: 0.1381 - val_accuracy: 0.9579 - lr: 3.1207e-04\n",
      "Epoch 3/3\n",
      "266/266 [==============================] - 32s 120ms/step - loss: 0.0859 - accuracy: 0.9738 - val_loss: 0.0874 - val_accuracy: 0.9767 - lr: 3.1207e-04\n",
      "\n",
      "Accuracy: 97.67%\n",
      "\n",
      "learning rate: 1.2e-05\n",
      "num_dense_layers: 3\n",
      "num_dense_nodes: 417\n",
      "activation: relu\n",
      "\n",
      "Epoch 1/3\n",
      "266/266 [==============================] - 47s 166ms/step - loss: 1.9776 - accuracy: 0.5780 - val_loss: 1.3099 - val_accuracy: 0.7733 - lr: 1.2320e-05\n",
      "Epoch 2/3\n",
      "266/266 [==============================] - 43s 164ms/step - loss: 0.7760 - accuracy: 0.8378 - val_loss: 0.5131 - val_accuracy: 0.8677 - lr: 1.2320e-05\n",
      "Epoch 3/3\n",
      "266/266 [==============================] - 37s 140ms/step - loss: 0.4027 - accuracy: 0.8968 - val_loss: 0.3528 - val_accuracy: 0.9053 - lr: 1.2320e-05\n",
      "\n",
      "Accuracy: 90.53%\n",
      "\n",
      "learning rate: 3.7e-05\n",
      "num_dense_layers: 4\n",
      "num_dense_nodes: 176\n",
      "activation: sigmoid\n",
      "\n",
      "Epoch 1/3\n",
      "266/266 [==============================] - 36s 129ms/step - loss: 2.3224 - accuracy: 0.1068 - val_loss: 2.3019 - val_accuracy: 0.1146 - lr: 3.7251e-05\n",
      "Epoch 2/3\n",
      "266/266 [==============================] - 33s 124ms/step - loss: 2.3018 - accuracy: 0.1111 - val_loss: 2.3011 - val_accuracy: 0.1146 - lr: 3.7251e-05\n",
      "Epoch 3/3\n",
      "266/266 [==============================] - ETA: 0s - loss: 2.3019 - accuracy: 0.1100\n",
      "Epoch 3: ReduceLROnPlateau reducing learning rate to 1.862555291154422e-05.\n",
      "266/266 [==============================] - 33s 126ms/step - loss: 2.3019 - accuracy: 0.1100 - val_loss: 2.3010 - val_accuracy: 0.1146 - lr: 3.7251e-05\n",
      "\n",
      "Accuracy: 11.46%\n",
      "\n",
      "learning rate: 3.0e-05\n",
      "num_dense_layers: 5\n",
      "num_dense_nodes: 76\n",
      "activation: sigmoid\n",
      "\n",
      "Epoch 1/3\n",
      "266/266 [==============================] - 35s 127ms/step - loss: 2.4492 - accuracy: 0.1111 - val_loss: 2.3582 - val_accuracy: 0.1146 - lr: 2.9714e-05\n",
      "Epoch 2/3\n",
      "266/266 [==============================] - 32s 122ms/step - loss: 2.3309 - accuracy: 0.1111 - val_loss: 2.3093 - val_accuracy: 0.1146 - lr: 2.9714e-05\n",
      "Epoch 3/3\n",
      "266/266 [==============================] - ETA: 0s - loss: 2.3059 - accuracy: 0.1111\n",
      "Epoch 3: ReduceLROnPlateau reducing learning rate to 1.4857172573101707e-05.\n",
      "266/266 [==============================] - 32s 121ms/step - loss: 2.3059 - accuracy: 0.1111 - val_loss: 2.3014 - val_accuracy: 0.1146 - lr: 2.9714e-05\n",
      "\n",
      "Accuracy: 11.46%\n",
      "\n",
      "learning rate: 7.8e-05\n",
      "num_dense_layers: 4\n",
      "num_dense_nodes: 269\n",
      "activation: sigmoid\n",
      "\n",
      "Epoch 1/3\n",
      "266/266 [==============================] - 37s 133ms/step - loss: 2.3190 - accuracy: 0.1086 - val_loss: 2.3017 - val_accuracy: 0.1037 - lr: 7.8421e-05\n",
      "Epoch 2/3\n",
      "266/266 [==============================] - 37s 138ms/step - loss: 2.3031 - accuracy: 0.1077 - val_loss: 2.3018 - val_accuracy: 0.1146 - lr: 7.8421e-05\n",
      "Epoch 3/3\n",
      "266/266 [==============================] - 35s 131ms/step - loss: 2.3035 - accuracy: 0.1053 - val_loss: 2.3017 - val_accuracy: 0.1146 - lr: 7.8421e-05\n",
      "\n",
      "Accuracy: 11.46%\n",
      "\n",
      "learning rate: 7.6e-04\n",
      "num_dense_layers: 3\n",
      "num_dense_nodes: 277\n",
      "activation: sigmoid\n",
      "\n",
      "Epoch 1/3\n",
      "266/266 [==============================] - 37s 132ms/step - loss: 2.0765 - accuracy: 0.2320 - val_loss: 0.8286 - val_accuracy: 0.7717 - lr: 7.6301e-04\n",
      "Epoch 2/3\n",
      "266/266 [==============================] - 34s 128ms/step - loss: 0.3781 - accuracy: 0.8903 - val_loss: 0.2267 - val_accuracy: 0.9336 - lr: 7.6301e-04\n",
      "Epoch 3/3\n",
      "266/266 [==============================] - 35s 130ms/step - loss: 0.1547 - accuracy: 0.9546 - val_loss: 0.1368 - val_accuracy: 0.9616 - lr: 7.6301e-04\n",
      "\n",
      "Accuracy: 96.16%\n",
      "\n",
      "learning rate: 2.7e-06\n",
      "num_dense_layers: 3\n",
      "num_dense_nodes: 99\n",
      "activation: sigmoid\n",
      "\n",
      "Epoch 1/3\n",
      "266/266 [==============================] - 35s 125ms/step - loss: 2.4022 - accuracy: 0.1111 - val_loss: 2.3889 - val_accuracy: 0.1146 - lr: 2.6523e-06\n",
      "Epoch 2/3\n",
      "266/266 [==============================] - 33s 123ms/step - loss: 2.3696 - accuracy: 0.1111 - val_loss: 2.3613 - val_accuracy: 0.1146 - lr: 2.6523e-06\n",
      "Epoch 3/3\n",
      "266/266 [==============================] - 33s 123ms/step - loss: 2.3474 - accuracy: 0.1111 - val_loss: 2.3425 - val_accuracy: 0.1146 - lr: 2.6523e-06\n",
      "\n",
      "Accuracy: 11.46%\n",
      "\n",
      "learning rate: 7.3e-06\n",
      "num_dense_layers: 2\n",
      "num_dense_nodes: 169\n",
      "activation: relu\n",
      "\n",
      "Epoch 1/3\n",
      "266/266 [==============================] - 34s 123ms/step - loss: 2.2466 - accuracy: 0.3037 - val_loss: 2.1800 - val_accuracy: 0.4944 - lr: 7.3485e-06\n",
      "Epoch 2/3\n",
      "266/266 [==============================] - 32s 121ms/step - loss: 2.0390 - accuracy: 0.6079 - val_loss: 1.8617 - val_accuracy: 0.6701 - lr: 7.3485e-06\n",
      "Epoch 3/3\n",
      "266/266 [==============================] - 32s 122ms/step - loss: 1.5959 - accuracy: 0.7070 - val_loss: 1.3349 - val_accuracy: 0.7228 - lr: 7.3485e-06\n",
      "\n",
      "Accuracy: 72.28%\n",
      "\n",
      "learning rate: 7.7e-06\n",
      "num_dense_layers: 3\n",
      "num_dense_nodes: 463\n",
      "activation: relu\n",
      "\n",
      "Epoch 1/3\n",
      "266/266 [==============================] - 39s 142ms/step - loss: 2.1611 - accuracy: 0.4594 - val_loss: 1.8947 - val_accuracy: 0.7376 - lr: 7.7497e-06\n",
      "Epoch 2/3\n",
      "266/266 [==============================] - 36s 137ms/step - loss: 1.3700 - accuracy: 0.7909 - val_loss: 0.9218 - val_accuracy: 0.8087 - lr: 7.7497e-06\n",
      "Epoch 3/3\n",
      "266/266 [==============================] - 37s 137ms/step - loss: 0.6958 - accuracy: 0.8417 - val_loss: 0.5692 - val_accuracy: 0.8529 - lr: 7.7497e-06\n",
      "\n",
      "Accuracy: 85.29%\n",
      "\n",
      "learning rate: 5.3e-04\n",
      "num_dense_layers: 4\n",
      "num_dense_nodes: 512\n",
      "activation: sigmoid\n",
      "\n"
     ]
    },
    {
     "name": "stderr",
     "output_type": "stream",
     "text": [
      "C:\\Users\\msagardi\\AppData\\Local\\anaconda3\\envs\\hyp\\lib\\site-packages\\keras\\optimizers\\legacy\\adam.py:117: UserWarning: The `lr` argument is deprecated, use `learning_rate` instead.\n",
      "  super().__init__(name, **kwargs)\n"
     ]
    },
    {
     "name": "stdout",
     "output_type": "stream",
     "text": [
      "Epoch 1/3\n",
      "266/266 [==============================] - 41s 148ms/step - loss: 2.3165 - accuracy: 0.1086 - val_loss: 2.2266 - val_accuracy: 0.2093 - lr: 5.2951e-04\n",
      "Epoch 2/3\n",
      "266/266 [==============================] - 40s 149ms/step - loss: 1.0674 - accuracy: 0.6094 - val_loss: 0.5569 - val_accuracy: 0.7968 - lr: 5.2951e-04\n",
      "Epoch 3/3\n",
      "266/266 [==============================] - 40s 150ms/step - loss: 0.4414 - accuracy: 0.8533 - val_loss: 0.3980 - val_accuracy: 0.8646 - lr: 5.2951e-04\n",
      "\n",
      "Accuracy: 86.46%\n",
      "\n",
      "learning rate: 5.7e-04\n",
      "num_dense_layers: 1\n",
      "num_dense_nodes: 160\n",
      "activation: relu\n",
      "\n"
     ]
    },
    {
     "name": "stderr",
     "output_type": "stream",
     "text": [
      "C:\\Users\\msagardi\\AppData\\Local\\anaconda3\\envs\\hyp\\lib\\site-packages\\keras\\optimizers\\legacy\\adam.py:117: UserWarning: The `lr` argument is deprecated, use `learning_rate` instead.\n",
      "  super().__init__(name, **kwargs)\n"
     ]
    },
    {
     "name": "stdout",
     "output_type": "stream",
     "text": [
      "Epoch 1/3\n",
      "266/266 [==============================] - 31s 112ms/step - loss: 0.3680 - accuracy: 0.8935 - val_loss: 0.1369 - val_accuracy: 0.9587 - lr: 5.7476e-04\n",
      "Epoch 2/3\n",
      "266/266 [==============================] - 28s 106ms/step - loss: 0.0923 - accuracy: 0.9720 - val_loss: 0.0864 - val_accuracy: 0.9767 - lr: 5.7476e-04\n",
      "Epoch 3/3\n",
      "266/266 [==============================] - 27s 103ms/step - loss: 0.0626 - accuracy: 0.9804 - val_loss: 0.0785 - val_accuracy: 0.9796 - lr: 5.7476e-04\n",
      "\n",
      "Accuracy: 97.96%\n",
      "\n",
      "learning rate: 2.4e-03\n",
      "num_dense_layers: 5\n",
      "num_dense_nodes: 5\n",
      "activation: relu\n",
      "\n"
     ]
    },
    {
     "name": "stderr",
     "output_type": "stream",
     "text": [
      "C:\\Users\\msagardi\\AppData\\Local\\anaconda3\\envs\\hyp\\lib\\site-packages\\keras\\optimizers\\legacy\\adam.py:117: UserWarning: The `lr` argument is deprecated, use `learning_rate` instead.\n",
      "  super().__init__(name, **kwargs)\n"
     ]
    },
    {
     "name": "stdout",
     "output_type": "stream",
     "text": [
      "Epoch 1/3\n",
      "266/266 [==============================] - 29s 102ms/step - loss: 1.3111 - accuracy: 0.5191 - val_loss: 0.5586 - val_accuracy: 0.8087 - lr: 0.0024\n",
      "Epoch 2/3\n",
      "266/266 [==============================] - 27s 102ms/step - loss: 0.4239 - accuracy: 0.8525 - val_loss: 0.3365 - val_accuracy: 0.9008 - lr: 0.0024\n",
      "Epoch 3/3\n",
      "266/266 [==============================] - 26s 100ms/step - loss: 0.2401 - accuracy: 0.9304 - val_loss: 0.2157 - val_accuracy: 0.9415 - lr: 0.0024\n",
      "\n",
      "Accuracy: 94.15%\n",
      "\n",
      "learning rate: 8.2e-04\n",
      "num_dense_layers: 4\n",
      "num_dense_nodes: 79\n",
      "activation: sigmoid\n",
      "\n"
     ]
    },
    {
     "name": "stderr",
     "output_type": "stream",
     "text": [
      "C:\\Users\\msagardi\\AppData\\Local\\anaconda3\\envs\\hyp\\lib\\site-packages\\keras\\optimizers\\legacy\\adam.py:117: UserWarning: The `lr` argument is deprecated, use `learning_rate` instead.\n",
      "  super().__init__(name, **kwargs)\n"
     ]
    },
    {
     "name": "stdout",
     "output_type": "stream",
     "text": [
      "Epoch 1/3\n",
      "266/266 [==============================] - 31s 111ms/step - loss: 2.3086 - accuracy: 0.1040 - val_loss: 2.3090 - val_accuracy: 0.0997 - lr: 8.1990e-04\n",
      "Epoch 2/3\n",
      "266/266 [==============================] - 40s 151ms/step - loss: 2.3050 - accuracy: 0.1024 - val_loss: 2.3042 - val_accuracy: 0.0997 - lr: 8.1990e-04\n",
      "Epoch 3/3\n",
      "266/266 [==============================] - 35s 130ms/step - loss: 2.3042 - accuracy: 0.1050 - val_loss: 2.3035 - val_accuracy: 0.1045 - lr: 8.1990e-04\n",
      "\n",
      "Accuracy: 10.45%\n",
      "\n",
      "learning rate: 1.5e-03\n",
      "num_dense_layers: 2\n",
      "num_dense_nodes: 354\n",
      "activation: sigmoid\n",
      "\n"
     ]
    },
    {
     "name": "stderr",
     "output_type": "stream",
     "text": [
      "C:\\Users\\msagardi\\AppData\\Local\\anaconda3\\envs\\hyp\\lib\\site-packages\\keras\\optimizers\\legacy\\adam.py:117: UserWarning: The `lr` argument is deprecated, use `learning_rate` instead.\n",
      "  super().__init__(name, **kwargs)\n"
     ]
    },
    {
     "name": "stdout",
     "output_type": "stream",
     "text": [
      "Epoch 1/3\n",
      "266/266 [==============================] - 38s 138ms/step - loss: 1.4988 - accuracy: 0.4577 - val_loss: 0.2878 - val_accuracy: 0.9119 - lr: 0.0015\n",
      "Epoch 2/3\n",
      "266/266 [==============================] - 34s 127ms/step - loss: 0.1826 - accuracy: 0.9427 - val_loss: 0.1417 - val_accuracy: 0.9598 - lr: 0.0015\n",
      "Epoch 3/3\n",
      "266/266 [==============================] - 36s 134ms/step - loss: 0.1024 - accuracy: 0.9670 - val_loss: 0.1019 - val_accuracy: 0.9698 - lr: 0.0015\n",
      "\n",
      "Accuracy: 96.98%\n",
      "\n",
      "learning rate: 1.6e-04\n",
      "num_dense_layers: 3\n",
      "num_dense_nodes: 324\n",
      "activation: relu\n",
      "\n",
      "Epoch 1/3\n"
     ]
    },
    {
     "name": "stderr",
     "output_type": "stream",
     "text": [
      "C:\\Users\\msagardi\\AppData\\Local\\anaconda3\\envs\\hyp\\lib\\site-packages\\keras\\optimizers\\legacy\\adam.py:117: UserWarning: The `lr` argument is deprecated, use `learning_rate` instead.\n",
      "  super().__init__(name, **kwargs)\n"
     ]
    },
    {
     "name": "stdout",
     "output_type": "stream",
     "text": [
      "266/266 [==============================] - 35s 129ms/step - loss: 0.6020 - accuracy: 0.8383 - val_loss: 0.2281 - val_accuracy: 0.9331 - lr: 1.5597e-04\n",
      "Epoch 2/3\n",
      "266/266 [==============================] - 32s 121ms/step - loss: 0.1613 - accuracy: 0.9512 - val_loss: 0.1574 - val_accuracy: 0.9532 - lr: 1.5597e-04\n",
      "Epoch 3/3\n",
      "266/266 [==============================] - 32s 121ms/step - loss: 0.1014 - accuracy: 0.9687 - val_loss: 0.1146 - val_accuracy: 0.9675 - lr: 1.5597e-04\n",
      "\n",
      "Accuracy: 96.75%\n",
      "\n",
      "learning rate: 6.1e-03\n",
      "num_dense_layers: 5\n",
      "num_dense_nodes: 171\n",
      "activation: relu\n",
      "\n",
      "Epoch 1/3\n"
     ]
    },
    {
     "name": "stderr",
     "output_type": "stream",
     "text": [
      "C:\\Users\\msagardi\\AppData\\Local\\anaconda3\\envs\\hyp\\lib\\site-packages\\keras\\optimizers\\legacy\\adam.py:117: UserWarning: The `lr` argument is deprecated, use `learning_rate` instead.\n",
      "  super().__init__(name, **kwargs)\n"
     ]
    },
    {
     "name": "stdout",
     "output_type": "stream",
     "text": [
      "266/266 [==============================] - 33s 122ms/step - loss: 0.4188 - accuracy: 0.8546 - val_loss: 0.1084 - val_accuracy: 0.9698 - lr: 0.0061\n",
      "Epoch 2/3\n",
      "266/266 [==============================] - 37s 138ms/step - loss: 0.0896 - accuracy: 0.9754 - val_loss: 0.0892 - val_accuracy: 0.9765 - lr: 0.0061\n",
      "Epoch 3/3\n",
      "266/266 [==============================] - 34s 129ms/step - loss: 0.0686 - accuracy: 0.9818 - val_loss: 0.0808 - val_accuracy: 0.9804 - lr: 0.0061\n",
      "\n",
      "Accuracy: 98.04%\n",
      "\n",
      "learning rate: 1.9e-03\n",
      "num_dense_layers: 4\n",
      "num_dense_nodes: 328\n",
      "activation: relu\n",
      "\n"
     ]
    },
    {
     "name": "stderr",
     "output_type": "stream",
     "text": [
      "C:\\Users\\msagardi\\AppData\\Local\\anaconda3\\envs\\hyp\\lib\\site-packages\\keras\\optimizers\\legacy\\adam.py:117: UserWarning: The `lr` argument is deprecated, use `learning_rate` instead.\n",
      "  super().__init__(name, **kwargs)\n"
     ]
    },
    {
     "name": "stdout",
     "output_type": "stream",
     "text": [
      "Epoch 1/3\n",
      "266/266 [==============================] - 39s 140ms/step - loss: 0.2288 - accuracy: 0.9253 - val_loss: 0.0849 - val_accuracy: 0.9759 - lr: 0.0019\n",
      "Epoch 2/3\n",
      "266/266 [==============================] - 39s 147ms/step - loss: 0.0590 - accuracy: 0.9820 - val_loss: 0.0824 - val_accuracy: 0.9802 - lr: 0.0019\n",
      "Epoch 3/3\n",
      "266/266 [==============================] - 42s 157ms/step - loss: 0.0464 - accuracy: 0.9858 - val_loss: 0.0857 - val_accuracy: 0.9794 - lr: 0.0019\n",
      "\n",
      "Accuracy: 97.94%\n",
      "\n",
      "learning rate: 7.8e-03\n",
      "num_dense_layers: 5\n",
      "num_dense_nodes: 402\n",
      "activation: sigmoid\n",
      "\n"
     ]
    },
    {
     "name": "stderr",
     "output_type": "stream",
     "text": [
      "C:\\Users\\msagardi\\AppData\\Local\\anaconda3\\envs\\hyp\\lib\\site-packages\\keras\\optimizers\\legacy\\adam.py:117: UserWarning: The `lr` argument is deprecated, use `learning_rate` instead.\n",
      "  super().__init__(name, **kwargs)\n"
     ]
    },
    {
     "name": "stdout",
     "output_type": "stream",
     "text": [
      "Epoch 1/3\n",
      "266/266 [==============================] - 47s 171ms/step - loss: 2.3433 - accuracy: 0.1017 - val_loss: 2.3006 - val_accuracy: 0.1146 - lr: 0.0078\n",
      "Epoch 2/3\n",
      "266/266 [==============================] - 40s 151ms/step - loss: 2.3023 - accuracy: 0.1054 - val_loss: 2.3017 - val_accuracy: 0.0997 - lr: 0.0078\n",
      "Epoch 3/3\n",
      "266/266 [==============================] - ETA: 0s - loss: 2.3021 - accuracy: 0.1091\n",
      "Epoch 3: ReduceLROnPlateau reducing learning rate to 0.0038797773886471987.\n",
      "266/266 [==============================] - 56s 210ms/step - loss: 2.3021 - accuracy: 0.1091 - val_loss: 2.3007 - val_accuracy: 0.1146 - lr: 0.0078\n",
      "\n",
      "Accuracy: 11.46%\n",
      "\n",
      "learning rate: 1.1e-03\n",
      "num_dense_layers: 3\n",
      "num_dense_nodes: 498\n",
      "activation: sigmoid\n",
      "\n"
     ]
    },
    {
     "name": "stderr",
     "output_type": "stream",
     "text": [
      "C:\\Users\\msagardi\\AppData\\Local\\anaconda3\\envs\\hyp\\lib\\site-packages\\keras\\optimizers\\legacy\\adam.py:117: UserWarning: The `lr` argument is deprecated, use `learning_rate` instead.\n",
      "  super().__init__(name, **kwargs)\n"
     ]
    },
    {
     "name": "stdout",
     "output_type": "stream",
     "text": [
      "Epoch 1/3\n",
      "266/266 [==============================] - 45s 161ms/step - loss: 1.9829 - accuracy: 0.2514 - val_loss: 0.8176 - val_accuracy: 0.6987 - lr: 0.0011\n",
      "Epoch 2/3\n",
      "266/266 [==============================] - 47s 176ms/step - loss: 0.4994 - accuracy: 0.8319 - val_loss: 0.3022 - val_accuracy: 0.9045 - lr: 0.0011\n",
      "Epoch 3/3\n",
      "266/266 [==============================] - 44s 164ms/step - loss: 0.2405 - accuracy: 0.9237 - val_loss: 0.2130 - val_accuracy: 0.9336 - lr: 0.0011\n",
      "\n",
      "Accuracy: 93.36%\n",
      "\n",
      "learning rate: 7.7e-04\n",
      "num_dense_layers: 1\n",
      "num_dense_nodes: 372\n",
      "activation: sigmoid\n",
      "\n"
     ]
    },
    {
     "name": "stderr",
     "output_type": "stream",
     "text": [
      "C:\\Users\\msagardi\\AppData\\Local\\anaconda3\\envs\\hyp\\lib\\site-packages\\keras\\optimizers\\legacy\\adam.py:117: UserWarning: The `lr` argument is deprecated, use `learning_rate` instead.\n",
      "  super().__init__(name, **kwargs)\n"
     ]
    },
    {
     "name": "stdout",
     "output_type": "stream",
     "text": [
      "Epoch 1/3\n",
      "266/266 [==============================] - 37s 133ms/step - loss: 1.9165 - accuracy: 0.3137 - val_loss: 0.6493 - val_accuracy: 0.8106 - lr: 7.7085e-04\n",
      "Epoch 2/3\n",
      "266/266 [==============================] - 35s 132ms/step - loss: 0.4123 - accuracy: 0.8780 - val_loss: 0.3000 - val_accuracy: 0.9127 - lr: 7.7085e-04\n",
      "Epoch 3/3\n",
      "266/266 [==============================] - 43s 162ms/step - loss: 0.2376 - accuracy: 0.9291 - val_loss: 0.2349 - val_accuracy: 0.9294 - lr: 7.7085e-04\n",
      "\n",
      "Accuracy: 92.94%\n",
      "\n",
      "learning rate: 3.3e-03\n",
      "num_dense_layers: 3\n",
      "num_dense_nodes: 147\n",
      "activation: relu\n",
      "\n"
     ]
    },
    {
     "name": "stderr",
     "output_type": "stream",
     "text": [
      "C:\\Users\\msagardi\\AppData\\Local\\anaconda3\\envs\\hyp\\lib\\site-packages\\keras\\optimizers\\legacy\\adam.py:117: UserWarning: The `lr` argument is deprecated, use `learning_rate` instead.\n",
      "  super().__init__(name, **kwargs)\n"
     ]
    },
    {
     "name": "stdout",
     "output_type": "stream",
     "text": [
      "Epoch 1/3\n",
      "266/266 [==============================] - 45s 162ms/step - loss: 0.2159 - accuracy: 0.9294 - val_loss: 0.0799 - val_accuracy: 0.9770 - lr: 0.0033\n",
      "Epoch 2/3\n",
      "266/266 [==============================] - 36s 133ms/step - loss: 0.0589 - accuracy: 0.9825 - val_loss: 0.0579 - val_accuracy: 0.9833 - lr: 0.0033\n",
      "Epoch 3/3\n",
      "266/266 [==============================] - 36s 135ms/step - loss: 0.0414 - accuracy: 0.9868 - val_loss: 0.0522 - val_accuracy: 0.9841 - lr: 0.0033\n",
      "\n",
      "Accuracy: 98.41%\n",
      "\n",
      "learning rate: 1.0e-02\n",
      "num_dense_layers: 2\n",
      "num_dense_nodes: 292\n",
      "activation: relu\n",
      "\n"
     ]
    },
    {
     "name": "stderr",
     "output_type": "stream",
     "text": [
      "C:\\Users\\msagardi\\AppData\\Local\\anaconda3\\envs\\hyp\\lib\\site-packages\\keras\\optimizers\\legacy\\adam.py:117: UserWarning: The `lr` argument is deprecated, use `learning_rate` instead.\n",
      "  super().__init__(name, **kwargs)\n"
     ]
    },
    {
     "name": "stdout",
     "output_type": "stream",
     "text": [
      "Epoch 1/3\n",
      "266/266 [==============================] - 43s 156ms/step - loss: 0.2397 - accuracy: 0.9236 - val_loss: 0.0882 - val_accuracy: 0.9746 - lr: 0.0100\n",
      "Epoch 2/3\n",
      "266/266 [==============================] - 33s 125ms/step - loss: 0.0713 - accuracy: 0.9785 - val_loss: 0.0768 - val_accuracy: 0.9765 - lr: 0.0100\n",
      "Epoch 3/3\n",
      "266/266 [==============================] - 32s 122ms/step - loss: 0.0610 - accuracy: 0.9822 - val_loss: 0.1003 - val_accuracy: 0.9738 - lr: 0.0100\n",
      "\n",
      "Accuracy: 97.38%\n",
      "\n",
      "learning rate: 1.0e-02\n",
      "num_dense_layers: 1\n",
      "num_dense_nodes: 249\n",
      "activation: relu\n",
      "\n"
     ]
    },
    {
     "name": "stderr",
     "output_type": "stream",
     "text": [
      "C:\\Users\\msagardi\\AppData\\Local\\anaconda3\\envs\\hyp\\lib\\site-packages\\keras\\optimizers\\legacy\\adam.py:117: UserWarning: The `lr` argument is deprecated, use `learning_rate` instead.\n",
      "  super().__init__(name, **kwargs)\n"
     ]
    },
    {
     "name": "stdout",
     "output_type": "stream",
     "text": [
      "Epoch 1/3\n",
      "266/266 [==============================] - 37s 134ms/step - loss: 0.2507 - accuracy: 0.9203 - val_loss: 0.0718 - val_accuracy: 0.9783 - lr: 0.0100\n",
      "Epoch 2/3\n",
      "266/266 [==============================] - 37s 139ms/step - loss: 0.0678 - accuracy: 0.9778 - val_loss: 0.0793 - val_accuracy: 0.9767 - lr: 0.0100\n",
      "Epoch 3/3\n",
      "266/266 [==============================] - ETA: 0s - loss: 0.0491 - accuracy: 0.9843\n",
      "Epoch 3: ReduceLROnPlateau reducing learning rate to 0.004999999888241291.\n",
      "266/266 [==============================] - 40s 150ms/step - loss: 0.0491 - accuracy: 0.9843 - val_loss: 0.0780 - val_accuracy: 0.9778 - lr: 0.0100\n",
      "\n",
      "Accuracy: 97.78%\n",
      "\n",
      "learning rate: 4.7e-04\n",
      "num_dense_layers: 1\n",
      "num_dense_nodes: 512\n",
      "activation: relu\n",
      "\n"
     ]
    },
    {
     "name": "stderr",
     "output_type": "stream",
     "text": [
      "C:\\Users\\msagardi\\AppData\\Local\\anaconda3\\envs\\hyp\\lib\\site-packages\\keras\\optimizers\\legacy\\adam.py:117: UserWarning: The `lr` argument is deprecated, use `learning_rate` instead.\n",
      "  super().__init__(name, **kwargs)\n"
     ]
    },
    {
     "name": "stdout",
     "output_type": "stream",
     "text": [
      "Epoch 1/3\n",
      "266/266 [==============================] - 65s 239ms/step - loss: 0.3627 - accuracy: 0.8962 - val_loss: 0.1362 - val_accuracy: 0.9601 - lr: 4.6590e-04\n",
      "Epoch 2/3\n",
      "266/266 [==============================] - 43s 163ms/step - loss: 0.0888 - accuracy: 0.9732 - val_loss: 0.0852 - val_accuracy: 0.9751 - lr: 4.6590e-04\n",
      "Epoch 3/3\n",
      "266/266 [==============================] - 35s 132ms/step - loss: 0.0583 - accuracy: 0.9819 - val_loss: 0.0680 - val_accuracy: 0.9804 - lr: 4.6590e-04\n",
      "\n",
      "Accuracy: 98.04%\n",
      "\n",
      "learning rate: 5.9e-03\n",
      "num_dense_layers: 1\n",
      "num_dense_nodes: 512\n",
      "activation: relu\n",
      "\n"
     ]
    },
    {
     "name": "stderr",
     "output_type": "stream",
     "text": [
      "C:\\Users\\msagardi\\AppData\\Local\\anaconda3\\envs\\hyp\\lib\\site-packages\\keras\\optimizers\\legacy\\adam.py:117: UserWarning: The `lr` argument is deprecated, use `learning_rate` instead.\n",
      "  super().__init__(name, **kwargs)\n"
     ]
    },
    {
     "name": "stdout",
     "output_type": "stream",
     "text": [
      "Epoch 1/3\n",
      "266/266 [==============================] - 44s 162ms/step - loss: 0.1989 - accuracy: 0.9389 - val_loss: 0.0893 - val_accuracy: 0.9714 - lr: 0.0059\n",
      "Epoch 2/3\n",
      "266/266 [==============================] - 40s 150ms/step - loss: 0.0542 - accuracy: 0.9824 - val_loss: 0.0639 - val_accuracy: 0.9828 - lr: 0.0059\n",
      "Epoch 3/3\n",
      "266/266 [==============================] - 41s 153ms/step - loss: 0.0385 - accuracy: 0.9882 - val_loss: 0.0592 - val_accuracy: 0.9849 - lr: 0.0059\n",
      "\n",
      "Accuracy: 98.49%\n",
      "\n",
      "learning rate: 1.0e-02\n",
      "num_dense_layers: 4\n",
      "num_dense_nodes: 104\n",
      "activation: relu\n",
      "\n"
     ]
    },
    {
     "name": "stderr",
     "output_type": "stream",
     "text": [
      "C:\\Users\\msagardi\\AppData\\Local\\anaconda3\\envs\\hyp\\lib\\site-packages\\keras\\optimizers\\legacy\\adam.py:117: UserWarning: The `lr` argument is deprecated, use `learning_rate` instead.\n",
      "  super().__init__(name, **kwargs)\n"
     ]
    },
    {
     "name": "stdout",
     "output_type": "stream",
     "text": [
      "Epoch 1/3\n",
      "266/266 [==============================] - 36s 129ms/step - loss: 0.3917 - accuracy: 0.8708 - val_loss: 0.1408 - val_accuracy: 0.9606 - lr: 0.0100\n",
      "Epoch 2/3\n",
      "266/266 [==============================] - 38s 141ms/step - loss: 0.0981 - accuracy: 0.9725 - val_loss: 0.0979 - val_accuracy: 0.9728 - lr: 0.0100\n",
      "Epoch 3/3\n",
      "266/266 [==============================] - 33s 123ms/step - loss: 0.0815 - accuracy: 0.9776 - val_loss: 0.0945 - val_accuracy: 0.9778 - lr: 0.0100\n",
      "\n",
      "Accuracy: 97.78%\n",
      "\n",
      "learning rate: 7.1e-05\n",
      "num_dense_layers: 5\n",
      "num_dense_nodes: 512\n",
      "activation: relu\n",
      "\n"
     ]
    },
    {
     "name": "stderr",
     "output_type": "stream",
     "text": [
      "C:\\Users\\msagardi\\AppData\\Local\\anaconda3\\envs\\hyp\\lib\\site-packages\\keras\\optimizers\\legacy\\adam.py:117: UserWarning: The `lr` argument is deprecated, use `learning_rate` instead.\n",
      "  super().__init__(name, **kwargs)\n"
     ]
    },
    {
     "name": "stdout",
     "output_type": "stream",
     "text": [
      "Epoch 1/3\n",
      "266/266 [==============================] - 44s 160ms/step - loss: 0.7740 - accuracy: 0.7972 - val_loss: 0.2464 - val_accuracy: 0.9243 - lr: 7.0915e-05\n",
      "Epoch 2/3\n",
      "266/266 [==============================] - 40s 150ms/step - loss: 0.1793 - accuracy: 0.9442 - val_loss: 0.1489 - val_accuracy: 0.9571 - lr: 7.0915e-05\n",
      "Epoch 3/3\n",
      "266/266 [==============================] - 40s 152ms/step - loss: 0.1142 - accuracy: 0.9647 - val_loss: 0.1090 - val_accuracy: 0.9706 - lr: 7.0915e-05\n",
      "\n",
      "Accuracy: 97.06%\n",
      "\n",
      "learning rate: 1.8e-03\n",
      "num_dense_layers: 3\n",
      "num_dense_nodes: 512\n",
      "activation: relu\n",
      "\n"
     ]
    },
    {
     "name": "stderr",
     "output_type": "stream",
     "text": [
      "C:\\Users\\msagardi\\AppData\\Local\\anaconda3\\envs\\hyp\\lib\\site-packages\\keras\\optimizers\\legacy\\adam.py:117: UserWarning: The `lr` argument is deprecated, use `learning_rate` instead.\n",
      "  super().__init__(name, **kwargs)\n"
     ]
    },
    {
     "name": "stdout",
     "output_type": "stream",
     "text": [
      "Epoch 1/3\n",
      "266/266 [==============================] - 43s 155ms/step - loss: 0.2104 - accuracy: 0.9317 - val_loss: 0.0591 - val_accuracy: 0.9823 - lr: 0.0018\n",
      "Epoch 2/3\n",
      "266/266 [==============================] - 38s 143ms/step - loss: 0.0547 - accuracy: 0.9842 - val_loss: 0.0658 - val_accuracy: 0.9807 - lr: 0.0018\n",
      "Epoch 3/3\n",
      "266/266 [==============================] - 37s 138ms/step - loss: 0.0376 - accuracy: 0.9880 - val_loss: 0.0543 - val_accuracy: 0.9844 - lr: 0.0018\n",
      "\n",
      "Accuracy: 98.44%\n",
      "\n"
     ]
    }
   ],
   "source": [
    "# gp_minimize performs by default GP Optimization \n",
    "# using a Marten Kernel\n",
    "# NOTE: instead of passing n_initial_points, we pass\n",
    "# th einitial parameters!\n",
    "gp_ = gp_minimize(\n",
    "    objective, # the objective function to minimize\n",
    "    param_grid, # the hyperparameter space\n",
    "    x0=default_parameters, # the initial parameters to test\n",
    "    acq_func='EI', # the acquisition function\n",
    "    n_calls=30, # the number of subsequent evaluations of f(x)\n",
    "    random_state=0, \n",
    ")"
   ]
  },
  {
   "cell_type": "markdown",
   "metadata": {},
   "source": [
    "# Analyze results"
   ]
  },
  {
   "cell_type": "code",
   "execution_count": 28,
   "metadata": {},
   "outputs": [
    {
     "data": {
      "text/plain": [
       "'Best score=-0.9849'"
      ]
     },
     "execution_count": 28,
     "metadata": {},
     "output_type": "execute_result"
    }
   ],
   "source": [
    "# function value at the minimum.\n",
    "# note that it is the negative of the accuracy\n",
    "\"Best score=%.4f\" % gp_.fun"
   ]
  },
  {
   "cell_type": "code",
   "execution_count": 29,
   "metadata": {},
   "outputs": [
    {
     "data": {
      "text/plain": [
       "[0.005900825324062468, 1, 512, 'relu']"
      ]
     },
     "execution_count": 29,
     "metadata": {},
     "output_type": "execute_result"
    }
   ],
   "source": [
    "gp_.x"
   ]
  },
  {
   "cell_type": "code",
   "execution_count": 30,
   "metadata": {},
   "outputs": [
    {
     "data": {
      "text/plain": [
       "Space([Real(low=1e-06, high=0.01, prior='log-uniform', transform='normalize'),\n",
       "       Integer(low=1, high=5, prior='uniform', transform='normalize'),\n",
       "       Integer(low=5, high=512, prior='uniform', transform='normalize'),\n",
       "       Categorical(categories=('relu', 'sigmoid'), prior=None)])"
      ]
     },
     "execution_count": 30,
     "metadata": {},
     "output_type": "execute_result"
    }
   ],
   "source": [
    "# we can access the hyperparameter space\n",
    "gp_.space"
   ]
  },
  {
   "cell_type": "code",
   "execution_count": 31,
   "metadata": {},
   "outputs": [
    {
     "name": "stdout",
     "output_type": "stream",
     "text": [
      "Best parameters:\n",
      "=========================\n",
      "- learning rate=0.005901\n",
      "- num_dense_layers=1\n",
      "- num_nodes=512\n",
      "- activation = relu\n"
     ]
    }
   ],
   "source": [
    "print(\"\"\"Best parameters:\n",
    "=========================\n",
    "- learning rate=%.6f\n",
    "- num_dense_layers=%d\n",
    "- num_nodes=%d\n",
    "- activation = %s\"\"\" % (gp_.x[0], \n",
    "                gp_.x[1],\n",
    "                gp_.x[2],\n",
    "                gp_.x[3]))"
   ]
  },
  {
   "cell_type": "markdown",
   "metadata": {},
   "source": [
    "## Convergence"
   ]
  },
  {
   "cell_type": "code",
   "execution_count": 32,
   "metadata": {},
   "outputs": [
    {
     "data": {
      "text/plain": [
       "<Axes: title={'center': 'Convergence plot'}, xlabel='Number of calls $n$', ylabel='$\\\\min f(x)$ after $n$ calls'>"
      ]
     },
     "execution_count": 32,
     "metadata": {},
     "output_type": "execute_result"
    },
    {
     "data": {
      "image/png": "[encoded data removed]",
      "text/plain": [
       "<Figure size 640x480 with 1 Axes>"
      ]
     },
     "metadata": {},
     "output_type": "display_data"
    }
   ],
   "source": [
    "# Always plot the convergence to check whether we founf the minimum\n",
    "plot_convergence(gp_)"
   ]
  },
  {
   "cell_type": "markdown",
   "metadata": {},
   "source": [
    "## Partially dependency plots\n",
    "\n",
    "[plot_objective](https://scikit-optimize.github.io/stable/modules/generated/skopt.plots.plot_objective.html#skopt.plots.plot_objective)"
   ]
  },
  {
   "cell_type": "code",
   "execution_count": 33,
   "metadata": {},
   "outputs": [],
   "source": [
    "dim_names = ['learning_rate', 'num_dense_nodes', 'num_dense_layers']"
   ]
  },
  {
   "cell_type": "code",
   "execution_count": 34,
   "metadata": {},
   "outputs": [
    {
     "data": {
      "image/png": "[encoded data removed]",
      "text/plain": [
       "<Figure size 600x600 with 9 Axes>"
      ]
     },
     "metadata": {},
     "output_type": "display_data"
    }
   ],
   "source": [
    "# Objective plot:\n",
    "# We select the hyperparameters we want to analyze\n",
    "# A matrix of plots is shown\n",
    "# The diagonal shows the effect of each selected hyperparam on the response\n",
    "# The non-diagonal plots are bi-variate plots of pairs of hyperparams\n",
    "# and they also show the effect of varying hyperparam values on the response.\n",
    "# In black, the sampled combinations, in red, the optimum combination (minimum response in objective)\n",
    "# We see that sometimes some hyperparams have no effect, e.g., number of dense layers\n",
    "# https://scikit-optimize.github.io/stable/modules/generated/skopt.plots.plot_objective.html#skopt.plots.plot_objective\n",
    "plot_objective(result=gp_, plot_dims=dim_names)\n",
    "plt.show()"
   ]
  },
  {
   "cell_type": "markdown",
   "metadata": {},
   "source": [
    "## Evaluation order\n",
    "\n",
    "[plot_evaluations](https://scikit-optimize.github.io/stable/modules/generated/skopt.plots.plot_evaluations.html)"
   ]
  },
  {
   "cell_type": "code",
   "execution_count": 35,
   "metadata": {},
   "outputs": [
    {
     "data": {
      "image/png": "[encoded data removed]",
      "text/plain": [
       "<Figure size 600x600 with 9 Axes>"
      ]
     },
     "metadata": {},
     "output_type": "display_data"
    }
   ],
   "source": [
    "# Evaluations plot\n",
    "# We select the hyperparameters we want to analyze\n",
    "# A matrix of plots is shown\n",
    "# The diagonal shows the histogram of samplings for each selected hyperparam\n",
    "# The non-diagonal plots show the order of the sampling with pairs of hyperparams\n",
    "# The order in which hyperparams were sampled is color-coded\n",
    "# The optimum point is in red\n",
    "# https://scikit-optimize.github.io/stable/modules/generated/skopt.plots.plot_evaluations.html\n",
    "plot_evaluations(result=gp_, plot_dims=dim_names)\n",
    "plt.show()"
   ]
  },
  {
   "cell_type": "markdown",
   "metadata": {
    "_cell_guid": "e758621d-b27b-40ff-a93f-bebd2e0e5243",
    "_uuid": "0a1834f2a9f2db15dcaba4a84004b9627d714469"
   },
   "source": [
    "# Evaluate the model"
   ]
  },
  {
   "cell_type": "code",
   "execution_count": 36,
   "metadata": {},
   "outputs": [],
   "source": [
    "# We need to evaluate the final/best model with the test set\n",
    "# For that, we load the best model\n",
    "model = load_model(path_best_model)"
   ]
  },
  {
   "cell_type": "code",
   "execution_count": 37,
   "metadata": {},
   "outputs": [
    {
     "name": "stdout",
     "output_type": "stream",
     "text": [
      "132/132 [==============================] - 2s 13ms/step - loss: 0.0494 - accuracy: 0.9840\n"
     ]
    }
   ],
   "source": [
    "# make predictions in test set\n",
    "# NOTE: there is actually another dataset we could use...\n",
    "# but we use the split we created.\n",
    "result = model.evaluate(x=X_test,\n",
    "                        y=y_test)"
   ]
  },
  {
   "cell_type": "code",
   "execution_count": 38,
   "metadata": {},
   "outputs": [
    {
     "name": "stdout",
     "output_type": "stream",
     "text": [
      "loss 0.049428313970565796\n",
      "accuracy 0.9840475916862488\n"
     ]
    }
   ],
   "source": [
    "# print evaluation metrics\n",
    "\n",
    "for name, value in zip(model.metrics_names, result):\n",
    "    print(name, value)"
   ]
  },
  {
   "cell_type": "markdown",
   "metadata": {
    "_cell_guid": "5688faa0-b33b-4e92-b125-7fa0b37e7df3",
    "_uuid": "3306d29b732341663e50866140dc569360701a81"
   },
   "source": [
    "## Confusion matrix"
   ]
  },
  {
   "cell_type": "code",
   "execution_count": 39,
   "metadata": {},
   "outputs": [
    {
     "name": "stdout",
     "output_type": "stream",
     "text": [
      "132/132 [==============================] - 2s 11ms/step\n"
     ]
    },
    {
     "data": {
      "text/plain": [
       "array([[419,   0,   0,   0,   0,   0,   2,   0,   1,   0],\n",
       "       [  0, 468,   0,   0,   0,   0,   1,   2,   2,   0],\n",
       "       [  2,   0, 400,   1,   1,   0,   1,   4,   0,   0],\n",
       "       [  0,   0,   2, 422,   0,   1,   0,   1,   0,   0],\n",
       "       [  1,   2,   0,   0, 421,   1,   1,   0,   0,   3],\n",
       "       [  0,   0,   0,   1,   0, 376,   3,   0,   2,   0],\n",
       "       [  0,   0,   0,   0,   1,   0, 411,   0,   0,   0],\n",
       "       [  1,   1,   6,   1,   1,   2,   0, 454,   0,   3],\n",
       "       [  0,   1,   1,   0,   0,   0,   5,   0, 377,   0],\n",
       "       [  2,   0,   0,   0,   5,   1,   0,   0,   1, 385]], dtype=int64)"
      ]
     },
     "execution_count": 39,
     "metadata": {},
     "output_type": "execute_result"
    }
   ],
   "source": [
    "# Predict the values from the validation dataset\n",
    "y_pred = model.predict(X_test)\n",
    "\n",
    "# Convert predictions classes to one hot vectors \n",
    "y_pred_classes = np.argmax(y_pred, axis = 1)\n",
    "\n",
    "# Convert validation observations to one hot vectors\n",
    "y_true = np.argmax(y_test, axis = 1)\n",
    "\n",
    "# compute the confusion matrix\n",
    "cm = confusion_matrix(y_true, y_pred_classes) \n",
    "\n",
    "cm"
   ]
  },
  {
   "cell_type": "code",
   "execution_count": 40,
   "metadata": {
    "_cell_guid": "11361e73-8250-4bf5-a353-b0f8ea83e659",
    "_execution_state": "idle",
    "_uuid": "16e161179bf1b51ba66c39b2cead883f1db3a9c7"
   },
   "outputs": [
    {
     "data": {
      "text/plain": [
       "Text(0.5, 21.34715460257995, 'Predicted label')"
      ]
     },
     "execution_count": 40,
     "metadata": {},
     "output_type": "execute_result"
    },
    {
     "data": {
      "image/png": "[encoded data removed]",
      "text/plain": [
       "<Figure size 640x480 with 2 Axes>"
      ]
     },
     "metadata": {},
     "output_type": "display_data"
    }
   ],
   "source": [
    "# let's make it more colourful\n",
    "classes = 10\n",
    "\n",
    "plt.imshow(cm, interpolation='nearest', cmap=plt.cm.Blues)\n",
    "plt.title('Confusion matrix')\n",
    "plt.colorbar()\n",
    "tick_marks = np.arange(classes)\n",
    "plt.xticks(tick_marks, range(classes), rotation=45)\n",
    "plt.yticks(tick_marks, range(classes))\n",
    "\n",
    "for i, j in itertools.product(range(cm.shape[0]), range(cm.shape[1])):\n",
    "    plt.text(j, i, cm[i, j],\n",
    "             horizontalalignment=\"center\",\n",
    "             color=\"white\" if cm[i, j] > 100 else \"black\",\n",
    "            )\n",
    "\n",
    "plt.tight_layout()\n",
    "plt.ylabel('True label')\n",
    "plt.xlabel('Predicted label')"
   ]
  },
  {
   "cell_type": "markdown",
   "metadata": {
    "_cell_guid": "1b8a5cdc-9122-4e31-b9fa-0f6b57d33fc8",
    "_uuid": "ecb928433299b163ecc1f6c4e66d4ddcf38fe898"
   },
   "source": [
    "Here we can see that our CNN performs very well on all digits.\n",
    "\n",
    "#  References\n",
    "\n",
    "This notebook was based on these resources:\n",
    "\n",
    "- [TensorFlow Tutorial #19](https://github.com/Hvass-Labs/TensorFlow-Tutorials/blob/master/19_Hyper-Parameters.ipynb)\n",
    "- [Introduction to CNN Keras - 0.997 (top 6%)](https://www.kaggle.com/yassineghouzam/introduction-to-cnn-keras-0-997-top-6)\n",
    "- [Keras](https://keras.io/)"
   ]
  },
  {
   "cell_type": "code",
   "execution_count": null,
   "metadata": {},
   "outputs": [],
   "source": []
  }
 ],
 "metadata": {
  "kernelspec": {
   "display_name": "Python 3 (ipykernel)",
   "language": "python",
   "name": "python3"
  },
  "language_info": {
   "codemirror_mode": {
    "name": "ipython",
    "version": 3
   },
   "file_extension": ".py",
   "mimetype": "text/x-python",
   "name": "python",
   "nbconvert_exporter": "python",
   "pygments_lexer": "ipython3",
   "version": "3.8.16"
  },
  "toc": {
   "base_numbering": 1,
   "nav_menu": {},
   "number_sections": true,
   "sideBar": true,
   "skip_h1_title": false,
   "title_cell": "Table of Contents",
   "title_sidebar": "Contents",
   "toc_cell": false,
   "toc_position": {
    "height": "calc(100% - 180px)",
    "left": "10px",
    "top": "150px",
    "width": "288.467px"
   },
   "toc_section_display": true,
   "toc_window_display": true
  }
 },
 "nbformat": 4,
 "nbformat_minor": 4
}
